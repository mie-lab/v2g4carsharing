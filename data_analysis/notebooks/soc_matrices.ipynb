{
 "cells": [
  {
   "cell_type": "markdown",
   "id": "7ea17032",
   "metadata": {},
   "source": [
    "## Reservation matrices mobility data"
   ]
  },
  {
   "cell_type": "code",
   "execution_count": null,
   "id": "f4377018",
   "metadata": {},
   "outputs": [],
   "source": [
    "import pandas as pd\n",
    "import numpy as np\n",
    "import matplotlib.pyplot as plt\n",
    "import matplotlib\n",
    "font = {'family' : 'Sans',\n",
    "        'size'   : 15}\n",
    "matplotlib.rc('font', **font)"
   ]
  },
  {
   "cell_type": "markdown",
   "id": "b66f0397",
   "metadata": {},
   "source": [
    "### Read data\n",
    "\n",
    "There are two matrices: the station matrix and the SOC matrix. Both are saved as csv files.\n",
    "Both matrices have one row per vehicle and one column per discrete time slot."
   ]
  },
  {
   "cell_type": "code",
   "execution_count": null,
   "id": "fd204820",
   "metadata": {},
   "outputs": [],
   "source": [
    "station_matrix = pd.read_csv(\"station_matrix.csv\", index_col=\"vehicle_no\")\n",
    "soc_matrix = pd.read_csv(\"soc_matrix.csv\", index_col=\"vehicle_no\")"
   ]
  },
  {
   "cell_type": "markdown",
   "id": "cd0c3e42",
   "metadata": {},
   "source": [
    "### Encoding station_matrix:\n",
    "\n",
    "* -1: Not sure whether the vehicle is part of the fleet yet. We are still waiting for data from mobility that shows when each vehicle was added to a station\n",
    "* 0: Vehicle is in use\n",
    "* \\>0: ID of the station where the vehicle is located\n"
   ]
  },
  {
   "cell_type": "code",
   "execution_count": null,
   "id": "b053c3a6",
   "metadata": {},
   "outputs": [],
   "source": [
    "station_matrix"
   ]
  },
  {
   "cell_type": "code",
   "execution_count": null,
   "id": "47954357",
   "metadata": {},
   "outputs": [],
   "source": [
    "# Stats\n",
    "uni, counts = np.unique(station_matrix, return_counts=True)\n",
    "print(\"The overall time is divided between\")\n",
    "print((counts[uni==-1]/ np.sum(counts))[0]*100, \"% before the first appearance of an EV\")\n",
    "print((counts[uni==0] / np.sum(counts))[0]*100, \"% car is driving\")\n",
    "print(np.sum(counts[uni>0]) / np.sum(counts) * 100, \"% car is standing at a station\")"
   ]
  },
  {
   "cell_type": "markdown",
   "id": "6a761133",
   "metadata": {},
   "source": [
    "### Encoding soc_matrix:\n",
    "\n",
    "Matrix shows the required SOC at departure and arrival times\n",
    "\n",
    "* The values are the relative SOC per vehicle (in % of the battery capacity) --> between 0 and 1\n",
    "* Linear charging curve is assumed\n",
    "* Only the min SOC at arrival and departure times are given --> TODO: Should I directly interpolate for the time slots inbetween?\n",
    "* **The departure SOC is saved at the first time slot of the reservation period, and the arrival SOC at the last position of the reservation period**"
   ]
  },
  {
   "cell_type": "code",
   "execution_count": null,
   "id": "6884b4b3",
   "metadata": {},
   "outputs": [],
   "source": [
    "soc_matrix"
   ]
  },
  {
   "cell_type": "code",
   "execution_count": null,
   "id": "b4df53ef",
   "metadata": {
    "scrolled": false
   },
   "outputs": [],
   "source": [
    "# Example for one vehicle:\n",
    "example_veh = soc_matrix.loc[130866].reset_index()\n",
    "greater_0 = example_veh[example_veh[130866]>0]\n",
    "ticks = greater_0[\"index\"]\n",
    "vals = greater_0[130866]\n",
    "tick_pos = np.where(example_veh[130866].values>0)[0]\n",
    "plt.figure(figsize=(20,5))\n",
    "plt.scatter(tick_pos, vals)\n",
    "plt.xticks(tick_pos, ticks, rotation=90)\n",
    "plt.ylabel(\"Minimum SOC at arrival / departure times\")\n",
    "plt.show()"
   ]
  },
  {
   "cell_type": "code",
   "execution_count": null,
   "id": "6ae0c9af",
   "metadata": {},
   "outputs": [],
   "source": [
    "soc_arr = np.array(soc_matrix)\n",
    "station_arr = np.array(station_matrix)\n",
    "np.any(station_arr[soc_arr >0])"
   ]
  },
  {
   "cell_type": "markdown",
   "id": "916e7630",
   "metadata": {},
   "source": [
    "## Example\n",
    "\n",
    "The following figure shows both matrices for a small excerpt of the data (50 vehicles and 50 timeslots = 25 hours) - randomly selected only for demonstration\n",
    "\n",
    "Note: The zeros are set to NaN only here for plotting"
   ]
  },
  {
   "cell_type": "code",
   "execution_count": null,
   "id": "79f9305f",
   "metadata": {},
   "outputs": [],
   "source": [
    "plt.figure(figsize=(20,10))\n",
    "# plot\n",
    "ax = plt.subplot(1, 2, 1)\n",
    "for_plot = np.array(station_matrix)[:50, 10000:10050]\n",
    "for_plot[for_plot <= 0] = np.nan\n",
    "plt.imshow(for_plot)\n",
    "ax.set_xticks(np.arange(-.5, 50, 1), minor=True)\n",
    "ax.set_yticks(np.arange(-.5, 50, 1), minor=True)\n",
    "ax.grid(which='minor', color='w', linestyle='-', linewidth=.5)\n",
    "plt.ylim(-0.5, 49.5)\n",
    "plt.ylabel(\"vehicle ID\")\n",
    "plt.xlabel(\"Time slot (0.5 hours per slot)\")\n",
    "plt.title(\"Vehicle location (station no)\")\n",
    "plt.colorbar()\n",
    "\n",
    "ax = plt.subplot(1, 2, 2)\n",
    "for_plot = np.array(soc_matrix)[:50, 10000:10050]\n",
    "for_plot[for_plot <= 0] = np.nan\n",
    "plt.imshow(for_plot)\n",
    "ax.set_xticks(np.arange(-.5, 50, 1), minor=True)\n",
    "ax.set_yticks(np.arange(-.5, 50, 1), minor=True)\n",
    "ax.grid(which='minor', color='black', linestyle='-', linewidth=.5)\n",
    "plt.ylim(-0.5, 49.5)\n",
    "plt.ylabel(\"vehicle ID\")\n",
    "plt.xlabel(\"Time slot (0.5 hours per slot)\")\n",
    "plt.title(\"Required SOC at arrival and departure\")\n",
    "plt.colorbar()\n",
    "plt.show()"
   ]
  },
  {
   "cell_type": "code",
   "execution_count": null,
   "id": "aa7043f3",
   "metadata": {},
   "outputs": [],
   "source": []
  }
 ],
 "metadata": {
  "kernelspec": {
   "display_name": "Python 3 (ipykernel)",
   "language": "python",
   "name": "python3"
  },
  "language_info": {
   "codemirror_mode": {
    "name": "ipython",
    "version": 3
   },
   "file_extension": ".py",
   "mimetype": "text/x-python",
   "name": "python",
   "nbconvert_exporter": "python",
   "pygments_lexer": "ipython3",
   "version": "3.9.5"
  }
 },
 "nbformat": 4,
 "nbformat_minor": 5
}
