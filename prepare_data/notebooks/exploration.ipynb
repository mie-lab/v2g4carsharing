{
 "cells": [
  {
   "cell_type": "markdown",
   "id": "1132996a",
   "metadata": {},
   "source": [
    "# Data exploration \n",
    "\n",
    "### Note\n",
    "\n",
    "This notebook uses the cleaned data of the folder `data_cleaned` which is created in the notebook data_to_database.ipynb. Thus, please first run that notebook"
   ]
  },
  {
   "cell_type": "code",
   "execution_count": null,
   "id": "0e8ab088",
   "metadata": {},
   "outputs": [],
   "source": [
    "import os\n",
    "import numpy as np\n",
    "import pandas as pd\n",
    "import seaborn as sns\n",
    "import matplotlib.pyplot as plt\n",
    "import matplotlib\n",
    "import geopandas as gpd\n",
    "import time\n",
    "from shapely import wkt\n",
    "import datetime\n",
    "from shapely.geometry import Point\n",
    "font = {'family' : 'Sans',\n",
    "        'size'   : 15}\n",
    "matplotlib.rc('font', **font)"
   ]
  },
  {
   "cell_type": "markdown",
   "id": "a257fc6a",
   "metadata": {},
   "source": [
    "#### Helper functions"
   ]
  },
  {
   "cell_type": "code",
   "execution_count": null,
   "id": "037e55af",
   "metadata": {},
   "outputs": [],
   "source": [
    "def convert_to_timestamp(x):\n",
    "    if pd.isna(x):\n",
    "        return pd.NA\n",
    "    else:\n",
    "        return time.mktime(datetime.datetime.strptime(x, \"%Y-%m-%d %H:%M:%S.%f\").timetuple())\n",
    "\n",
    "def diff_in_hours(ts1, ts2):\n",
    "    if pd.isna(ts1) or pd.isna(ts2):\n",
    "        return pd.NA\n",
    "    return (convert_to_timestamp(ts1) - convert_to_timestamp(ts2)) / 3600 \n",
    "\n",
    "def lon_lat_to_geom(data):\n",
    "    geom_col = []\n",
    "    for i, row in data.iterrows():\n",
    "        geom = Point(row[\"LAT\"], row[\"LON\"])\n",
    "        geom_col.append(geom)\n",
    "    data[\"geom\"] = geom_col\n",
    "    data = gpd.GeoDataFrame(data, geometry=\"geom\")\n",
    "    return data\n",
    "\n",
    "def write_geodataframe(gdf, out_path):\n",
    "    geo_col_name = gdf.geometry.name\n",
    "    df = pd.DataFrame(gdf, copy=True)\n",
    "    df[geo_col_name] = gdf.geometry.apply(wkt.dumps)\n",
    "    df.to_csv(out_path, index=True)\n",
    "    \n",
    "def read_geodataframe(in_path, geom_col=\"geom\"):\n",
    "    df = pd.read_csv(in_path)\n",
    "    df[geom_col] = df[geom_col].apply(wkt.loads)\n",
    "    gdf = gpd.GeoDataFrame(df, geometry=geom_col)\n",
    "    return gdf"
   ]
  },
  {
   "cell_type": "code",
   "execution_count": null,
   "id": "9346e479",
   "metadata": {},
   "outputs": [],
   "source": [
    "def get_weekday(time_string):\n",
    "    if pd.isna(time_string):\n",
    "        return pd.NA\n",
    "    dt = datetime.datetime.strptime(time_string, \"%Y-%m-%d %H:%M:%S.%f\")\n",
    "    return dt.weekday()\n",
    "\n",
    "def get_hour(time_string):\n",
    "    if pd.isna(time_string):\n",
    "        return pd.NA\n",
    "    dt = datetime.datetime.strptime(time_string, \"%Y-%m-%d %H:%M:%S.%f\")\n",
    "    return dt.hour"
   ]
  },
  {
   "cell_type": "code",
   "execution_count": null,
   "id": "1edea096",
   "metadata": {},
   "outputs": [],
   "source": [
    "reservation = pd.read_csv(\"data_cleaned/booking.csv\", index_col=\"reservation_no\")"
   ]
  },
  {
   "cell_type": "markdown",
   "id": "7dafcc95",
   "metadata": {},
   "source": [
    "### Pre filtering"
   ]
  },
  {
   "cell_type": "code",
   "execution_count": null,
   "id": "34a5d4d8",
   "metadata": {},
   "outputs": [],
   "source": [
    "print(len(reservation))\n",
    "reservation = reservation[reservation[\"reservationtype\"]==\"Normal\"]\n",
    "reservation = reservation[reservation[\"duration_hours\"]< 500]\n",
    "reservation = reservation[reservation[\"reservationstate\"]!=\"annulliert\"]\n",
    "len(reservation)"
   ]
  },
  {
   "cell_type": "markdown",
   "id": "b8d28e28",
   "metadata": {},
   "source": [
    "#### Check whether we need to exclude further reservations"
   ]
  },
  {
   "cell_type": "code",
   "execution_count": null,
   "id": "f7293aef",
   "metadata": {
    "scrolled": true
   },
   "outputs": [],
   "source": [
    "reservation[reservation[\"duration_hours\"]>168]"
   ]
  },
  {
   "cell_type": "markdown",
   "id": "80966e84",
   "metadata": {},
   "source": [
    "### Distribution over users"
   ]
  },
  {
   "cell_type": "code",
   "execution_count": null,
   "id": "41772ef6",
   "metadata": {},
   "outputs": [],
   "source": [
    "by_user =  reservation.groupby(\"person_no\").agg({\"person_no\": \"count\"})"
   ]
  },
  {
   "cell_type": "code",
   "execution_count": null,
   "id": "d73c86e3",
   "metadata": {},
   "outputs": [],
   "source": [
    "plt.hist(by_user[\"person_no\"].values, bins=100)\n",
    "plt.yscale(\"log\")\n",
    "plt.xlim(0, 750)\n",
    "plt.xlabel(\"Number of trips\")\n",
    "plt.ylabel(\"Number of users\")\n",
    "plt.title(\"Histogram of trips per user\")\n",
    "plt.show()"
   ]
  },
  {
   "cell_type": "markdown",
   "id": "cead86a2",
   "metadata": {},
   "source": [
    "### Start time and end time distributions"
   ]
  },
  {
   "cell_type": "code",
   "execution_count": null,
   "id": "aac9116a",
   "metadata": {},
   "outputs": [],
   "source": [
    "time_before = reservation.apply(lambda x: diff_in_hours(x[\"drive_firststart\"], x[\"reservationfrom\"]), axis=1)"
   ]
  },
  {
   "cell_type": "code",
   "execution_count": null,
   "id": "b0b852eb",
   "metadata": {},
   "outputs": [],
   "source": [
    "time_before.dropna(inplace=True)"
   ]
  },
  {
   "cell_type": "code",
   "execution_count": null,
   "id": "f9514e07",
   "metadata": {},
   "outputs": [],
   "source": [
    "plt.hist(time_before[time_before < 2], bins=20)\n",
    "# plt.yscale(\"log\")\n",
    "plt.xlim(-.5, 2)\n",
    "plt.ylabel(\"Number of bookings\")\n",
    "plt.xlabel(\"Hours between reservation start and start of drive\")\n",
    "plt.show()"
   ]
  },
  {
   "cell_type": "code",
   "execution_count": null,
   "id": "0d9956a7",
   "metadata": {},
   "outputs": [],
   "source": [
    "reservation.columns"
   ]
  },
  {
   "cell_type": "code",
   "execution_count": null,
   "id": "3626a839",
   "metadata": {},
   "outputs": [],
   "source": [
    "# Investigate negative values\n",
    "temp = reservation.loc[time_before.index]\n",
    "negatives =  temp[time_before < 0]"
   ]
  },
  {
   "cell_type": "code",
   "execution_count": null,
   "id": "4f2fa393",
   "metadata": {},
   "outputs": [],
   "source": [
    "len(negatives)"
   ]
  },
  {
   "cell_type": "code",
   "execution_count": null,
   "id": "f472875c",
   "metadata": {
    "scrolled": true
   },
   "outputs": [],
   "source": [
    "negatives[[\"reservationfrom\", \"drive_firststart\"]].head(50)"
   ]
  },
  {
   "cell_type": "code",
   "execution_count": null,
   "id": "403aa94c",
   "metadata": {},
   "outputs": [],
   "source": [
    "time_after_orig = reservation.apply(lambda x: diff_in_hours(x[\"reservationto\"], x[\"drive_lastend\"]), axis=1)"
   ]
  },
  {
   "cell_type": "code",
   "execution_count": null,
   "id": "eff0cd31",
   "metadata": {},
   "outputs": [],
   "source": [
    "# preprocess\n",
    "print(\"before:\", len(time_after_orig))\n",
    "time_after = time_after_orig.dropna()\n",
    "# only 5 bookings have a longer gap than 300\n",
    "time_after = time_after[time_after<300]\n",
    "\"after\", len(time_after)"
   ]
  },
  {
   "cell_type": "code",
   "execution_count": null,
   "id": "b77015bc",
   "metadata": {},
   "outputs": [],
   "source": [
    "time_after[time_after< 0]"
   ]
  },
  {
   "cell_type": "code",
   "execution_count": null,
   "id": "5757df1d",
   "metadata": {},
   "outputs": [],
   "source": [
    "between = time_after[time_after > -2]\n",
    "between = between[between < 2]\n",
    "plt.hist(between, bins=100)\n",
    "plt.yscale(\"log\")\n",
    "plt.xlim(-2,2)\n",
    "plt.ylabel(\"Number of bookings\")\n",
    "plt.xlabel(\"Hours between end of drive and reservation end\")\n",
    "plt.show()"
   ]
  },
  {
   "cell_type": "code",
   "execution_count": null,
   "id": "1a76c611",
   "metadata": {},
   "outputs": [],
   "source": [
    "sum(time_after< 0)"
   ]
  },
  {
   "cell_type": "code",
   "execution_count": null,
   "id": "7c5ce3e8",
   "metadata": {},
   "outputs": [],
   "source": [
    "wrong_lastend = reservation.loc[time_after[time_after<-100].index]"
   ]
  },
  {
   "cell_type": "code",
   "execution_count": null,
   "id": "8a9438c2",
   "metadata": {
    "scrolled": true
   },
   "outputs": [],
   "source": [
    "wrong_lastend[[\"drive_lastend\", \"reservationto\"]]"
   ]
  },
  {
   "cell_type": "markdown",
   "id": "5c326f8f",
   "metadata": {},
   "source": [
    "## Weekday and time distribution"
   ]
  },
  {
   "cell_type": "code",
   "execution_count": null,
   "id": "1b52ffd7",
   "metadata": {},
   "outputs": [],
   "source": [
    "for col in [\"drive_firststart\", \"reservationfrom\", \"drive_lastend\", \"reservationto\"]:\n",
    "    reservation[col+\"_weekday\"] = reservation[col].apply(get_weekday)"
   ]
  },
  {
   "cell_type": "code",
   "execution_count": null,
   "id": "0eb59152",
   "metadata": {
    "scrolled": true
   },
   "outputs": [],
   "source": [
    "for col in [\"drive_firststart\", \"reservationfrom\", \"drive_lastend\", \"reservationto\"]:\n",
    "    sns.countplot(reservation[col+ \"_weekday\"])\n",
    "    plt.xticks(np.arange(7), np.arange(7))\n",
    "    plt.show()"
   ]
  },
  {
   "cell_type": "markdown",
   "id": "7cdef481",
   "metadata": {},
   "source": [
    "### Daily time"
   ]
  },
  {
   "cell_type": "code",
   "execution_count": null,
   "id": "8bbff85c",
   "metadata": {
    "scrolled": true
   },
   "outputs": [],
   "source": [
    "for col in [\"drive_firststart\", \"reservationfrom\", \"drive_lastend\", \"reservationto\"]:\n",
    "    reservation[col+\"_hour\"] = reservation[col].apply(get_hour)\n",
    "    plt.figure(figsize=(15, 6))\n",
    "    sns.countplot(reservation[col+ \"_hour\"].dropna())\n",
    "    plt.xticks(np.arange(24), np.arange(24))\n",
    "    plt.show()"
   ]
  },
  {
   "cell_type": "markdown",
   "id": "a5bf9ca0",
   "metadata": {},
   "source": [
    "#### Drive firststart looks weird, investigate more in detail:"
   ]
  },
  {
   "cell_type": "code",
   "execution_count": null,
   "id": "62ffcfbc",
   "metadata": {
    "scrolled": true
   },
   "outputs": [],
   "source": [
    "# reason were the nan vlaues??\n",
    "for col in [\"drive_firststart\", \"drive_lastend\"]:\n",
    "    if col == \"drive_lastend\":\n",
    "        reservation[col+\"_hour\"] = reservation[col].apply(get_hour)\n",
    "    plt.figure(figsize=(15, 6))\n",
    "    sns.countplot(reservation[col+ \"_hour\"].dropna())\n",
    "    # Reason was just the wrong ordering of xticks in the first version\n",
    "    plt.xticks(np.arange(24), np.arange(24))\n",
    "    plt.show()"
   ]
  },
  {
   "cell_type": "markdown",
   "id": "0150a1f5",
   "metadata": {},
   "source": [
    "### Weekdays"
   ]
  },
  {
   "cell_type": "code",
   "execution_count": null,
   "id": "4272bde2",
   "metadata": {},
   "outputs": [],
   "source": [
    "weekday_cols = reservation[\"reservationfrom_weekday\"]"
   ]
  },
  {
   "cell_type": "code",
   "execution_count": null,
   "id": "28141f0f",
   "metadata": {
    "scrolled": true
   },
   "outputs": [],
   "source": [
    "# during the week\n",
    "plt.figure(figsize=(8,4))\n",
    "this_day = reservation[reservation[\"reservationfrom_weekday\"] <5]\n",
    "sns.countplot(this_day[\"reservationfrom_hour\"])\n",
    "plt.xticks(np.arange(24), np.arange(24))\n",
    "plt.show()\n",
    "# weekend\n",
    "plt.figure(figsize=(8,4))\n",
    "this_day = reservation[reservation[\"reservationfrom_weekday\"] >4]\n",
    "sns.countplot(this_day[\"reservationfrom_hour\"])\n",
    "plt.xticks(np.arange(24), np.arange(24))\n",
    "plt.show()"
   ]
  },
  {
   "cell_type": "code",
   "execution_count": null,
   "id": "d552c796",
   "metadata": {
    "scrolled": true
   },
   "outputs": [],
   "source": [
    "# for drive first start\n",
    "for day in range(7):\n",
    "    plt.figure(figsize=(8,4))\n",
    "    this_day = reservation[reservation[\"reservationfrom_weekday\"] == day]\n",
    "    sns.countplot(this_day[\"drive_firststart_hour\"])\n",
    "    plt.xticks(np.arange(24), np.arange(24))\n",
    "    plt.show()"
   ]
  },
  {
   "cell_type": "markdown",
   "id": "929ac440",
   "metadata": {},
   "source": [
    "### Distribution of bookings over the year"
   ]
  },
  {
   "cell_type": "code",
   "execution_count": null,
   "id": "c53c4d65",
   "metadata": {},
   "outputs": [],
   "source": [
    "def date_to_time(time_str):\n",
    "    # This function was stupid\n",
    "    if pd.isna(time_str):\n",
    "        return pd.NA\n",
    "    dt = datetime.datetime.strptime(time_str, \"%Y-%m-%d %H:%M:%S.%f\")\n",
    "    return dt.year * 10000 + dt.month * 100 + dt.day"
   ]
  },
  {
   "cell_type": "code",
   "execution_count": null,
   "id": "12431b55",
   "metadata": {},
   "outputs": [],
   "source": [
    "all_days = [d.split(\" \")[0] for d in reservation[\"reservationfrom\"].values if int(d[:4])>2018]"
   ]
  },
  {
   "cell_type": "code",
   "execution_count": null,
   "id": "9c7f2824",
   "metadata": {},
   "outputs": [],
   "source": [
    "uni_days = np.unique(all_days)\n",
    "mapping = {u: i for i, u in enumerate(uni_days)}"
   ]
  },
  {
   "cell_type": "code",
   "execution_count": null,
   "id": "4ad3f343",
   "metadata": {
    "scrolled": true
   },
   "outputs": [],
   "source": [
    "# check if we have all days:\n",
    "last_day = 0\n",
    "for d in uni_days:\n",
    "    new_day = int(d.split(\"-\")[-1])\n",
    "    if last_day != new_day -1:\n",
    "        print(d)\n",
    "    last_day = new_day"
   ]
  },
  {
   "cell_type": "code",
   "execution_count": null,
   "id": "1dcf85e8",
   "metadata": {},
   "outputs": [],
   "source": [
    "# map\n",
    "days_converted = reservation[\"reservationfrom\"].apply(lambda x: mapping[x.split(\" \")[0]] if int(x[:4])>2018 else pd.NA)"
   ]
  },
  {
   "cell_type": "code",
   "execution_count": null,
   "id": "5ba8128c",
   "metadata": {},
   "outputs": [],
   "source": [
    "plt.figure(figsize=(20,8))\n",
    "week_bins =  (np.arange(len(uni_days) / 7) * 7).astype(int)\n",
    "plt.hist(days_converted.dropna(), bins=week_bins)\n",
    "two_week_bins =  (np.arange(len(uni_days) / 14) * 14).astype(int)\n",
    "plt.xticks(two_week_bins, uni_days[two_week_bins], rotation=90)\n",
    "plt.show()"
   ]
  },
  {
   "cell_type": "markdown",
   "id": "ca86768f",
   "metadata": {},
   "source": [
    "#### With distinction of energytype"
   ]
  },
  {
   "cell_type": "code",
   "execution_count": null,
   "id": "f32f61c4",
   "metadata": {},
   "outputs": [],
   "source": [
    "reservation[\"reservation_from_day_converted\"] = days_converted"
   ]
  },
  {
   "cell_type": "code",
   "execution_count": null,
   "id": "b9da9477",
   "metadata": {},
   "outputs": [],
   "source": [
    "reservation.columns"
   ]
  },
  {
   "cell_type": "code",
   "execution_count": null,
   "id": "accc0596",
   "metadata": {
    "scrolled": true
   },
   "outputs": [],
   "source": [
    "import seaborn as sns\n",
    "f = plt.figure(figsize=(10,10))\n",
    "ax = f.add_subplot(1,1,1)\n",
    "sns.histplot(data=reservation, ax=ax, stat=\"count\", multiple=\"stack\",\n",
    "             x=\"reservation_from_day_converted\", kde=False,\n",
    "             palette=\"pastel\", hue=\"energytypegroup\",\n",
    "             element=\"bars\", legend=True)\n",
    "ax.set_title(\"Daily bookings by car type (Benzin / Electro)\")\n",
    "ax.set_xlabel(\"Bookings\")\n",
    "ax.set_ylabel(\"Count\")\n"
   ]
  },
  {
   "cell_type": "code",
   "execution_count": null,
   "id": "a99ea40e",
   "metadata": {},
   "outputs": [],
   "source": [
    "plt.figure(figsize=(20,8))\n",
    "week_bins =  (np.arange(len(uni_days) / 7) * 7).astype(int)\n",
    "plt.hist(days_converted.dropna(), bins=week_bins)\n",
    "two_week_bins =  (np.arange(len(uni_days) / 14) * 14).astype(int)\n",
    "plt.xticks(two_week_bins, uni_days[two_week_bins], rotation=90)\n",
    "plt.show()"
   ]
  },
  {
   "cell_type": "markdown",
   "id": "52751e64",
   "metadata": {},
   "source": [
    "## By stations"
   ]
  },
  {
   "cell_type": "code",
   "execution_count": null,
   "id": "0e36285e",
   "metadata": {},
   "outputs": [],
   "source": [
    "reservation.columns"
   ]
  },
  {
   "cell_type": "code",
   "execution_count": null,
   "id": "315d4086",
   "metadata": {},
   "outputs": [],
   "source": [
    "station = read_geodataframe(\"data_cleaned/station.csv\")\n",
    "station = station[station[\"lat\"] > 0]\n",
    "station = station[station[\"lon\"] > 0]"
   ]
  },
  {
   "cell_type": "code",
   "execution_count": null,
   "id": "d041f755",
   "metadata": {
    "scrolled": true
   },
   "outputs": [],
   "source": [
    "plt.figure(figsize=(15,8))\n",
    "plt.scatter(station[\"lon\"].values, station[\"lat\"].values, marker=\"o\", c=\"orange\")"
   ]
  },
  {
   "cell_type": "code",
   "execution_count": null,
   "id": "a1347bff",
   "metadata": {},
   "outputs": [],
   "source": [
    "bookings_per_station = reservation.groupby(\"start_station_no\").agg({\"start_station_no\": \"count\"})"
   ]
  },
  {
   "cell_type": "code",
   "execution_count": null,
   "id": "9b91f9d7",
   "metadata": {},
   "outputs": [],
   "source": [
    "ev_bookings_per_station = reservation[reservation[\"energytypegroup\"]==\"Electro\"].groupby(\"start_station_no\").agg({\"start_station_no\": \"count\"})\n"
   ]
  },
  {
   "cell_type": "code",
   "execution_count": null,
   "id": "07c64907",
   "metadata": {},
   "outputs": [],
   "source": [
    "plt.hist(bookings_per_station, bins=100)\n",
    "plt.yscale(\"log\")\n",
    "plt.xlabel(\"Number of bookings\")\n",
    "plt.ylabel(\"Stations\")\n",
    "plt.show()"
   ]
  },
  {
   "cell_type": "code",
   "execution_count": null,
   "id": "1a631443",
   "metadata": {},
   "outputs": [],
   "source": [
    "print(np.mean(bookings_per_station), np.std(bookings_per_station))"
   ]
  },
  {
   "cell_type": "code",
   "execution_count": null,
   "id": "a73e2abf",
   "metadata": {},
   "outputs": [],
   "source": [
    "bookings_per_station.rename(columns={\"start_station_no\": \"booking_count\"}, inplace=True)"
   ]
  },
  {
   "cell_type": "code",
   "execution_count": null,
   "id": "15c07c15",
   "metadata": {},
   "outputs": [],
   "source": [
    "stations_w_bookings = bookings_per_station.merge(station, left_on=\"start_station_no\", right_on=\"station_no\").set_index(\"station_no\")\n"
   ]
  },
  {
   "cell_type": "code",
   "execution_count": null,
   "id": "e665e9ce",
   "metadata": {},
   "outputs": [],
   "source": [
    "ev_bookings_per_station= ev_bookings_per_station.rename(columns={\"start_station_no\":\"booking_count\"})"
   ]
  },
  {
   "cell_type": "code",
   "execution_count": null,
   "id": "058e8553",
   "metadata": {},
   "outputs": [],
   "source": [
    "stations_w_ev_bookings = ev_bookings_per_station.merge(station, left_on=\"start_station_no\", right_on=\"station_no\").set_index(\"station_no\")\n"
   ]
  },
  {
   "cell_type": "code",
   "execution_count": null,
   "id": "379546ff",
   "metadata": {},
   "outputs": [],
   "source": [
    "# Test the result\n",
    "sum(reservation[\"start_station_no\"] == 1006)"
   ]
  },
  {
   "cell_type": "code",
   "execution_count": null,
   "id": "24df955a",
   "metadata": {},
   "outputs": [],
   "source": [
    "# Try to plot on map\n",
    "import pandas as pd\n",
    "from shapely.geometry import Point\n",
    "import geopandas as gpd\n",
    "from geopandas import GeoDataFrame\n",
    "#this is a simple map that goes with geopandas\n",
    "world = gpd.read_file(gpd.datasets.get_path('naturalearth_lowres'))\n",
    "station.plot(ax=world.plot(figsize=(10, 6)), marker='o', color='red', markersize=15);\n",
    "plt.ylim(40,60)\n",
    "plt.xlim(0, 15)"
   ]
  },
  {
   "cell_type": "code",
   "execution_count": null,
   "id": "69c1d9d9",
   "metadata": {},
   "outputs": [],
   "source": [
    "plt.figure(figsize=(15,8))\n",
    "plt.scatter(stations_w_bookings[\"lon\"], stations_w_bookings[\"lat\"], s=stations_w_bookings[\"booking_count\"]/50)\n",
    "plt.scatter(stations_w_ev_bookings[\"lon\"], stations_w_ev_bookings[\"lat\"], s=stations_w_ev_bookings[\"booking_count\"]/50)\n"
   ]
  },
  {
   "cell_type": "markdown",
   "id": "41d0a96f",
   "metadata": {},
   "source": [
    "#### EVS"
   ]
  },
  {
   "cell_type": "code",
   "execution_count": null,
   "id": "d9c9159d",
   "metadata": {},
   "outputs": [],
   "source": [
    "plt.figure(figsize=(15,8))\n",
    "plt.scatter(stations_w_bookings[\"lon\"], stations_w_bookings[\"lat\"])\n",
    "plt.scatter(stations_w_ev_bookings[\"lon\"], stations_w_ev_bookings[\"lat\"])"
   ]
  },
  {
   "cell_type": "markdown",
   "id": "17d8404e",
   "metadata": {},
   "source": [
    "#### Stats for booking count by station"
   ]
  },
  {
   "cell_type": "code",
   "execution_count": null,
   "id": "0f8a8a09",
   "metadata": {
    "scrolled": true
   },
   "outputs": [],
   "source": [
    "sorted_by_booking_count = stations_w_bookings.sort_values(by=\"booking_count\", ascending=False)\n",
    "sorted_by_booking_count.head(20)"
   ]
  },
  {
   "cell_type": "code",
   "execution_count": null,
   "id": "6c585462",
   "metadata": {
    "scrolled": true
   },
   "outputs": [],
   "source": [
    "for i in range(10):\n",
    "    print(np.quantile(sorted_by_booking_count[\"booking_count\"].values, (i+1) / 10))"
   ]
  },
  {
   "cell_type": "code",
   "execution_count": null,
   "id": "afc862c5",
   "metadata": {},
   "outputs": [],
   "source": [
    "sorted_by_booking_count.iloc[:20]"
   ]
  },
  {
   "cell_type": "code",
   "execution_count": null,
   "id": "3bf66962",
   "metadata": {},
   "outputs": [],
   "source": [
    "np.median(sorted_by_booking_count[\"booking_count\"].values)"
   ]
  },
  {
   "cell_type": "markdown",
   "id": "124a733f",
   "metadata": {},
   "source": [
    "### Free floating"
   ]
  },
  {
   "cell_type": "code",
   "execution_count": null,
   "id": "b994c990",
   "metadata": {},
   "outputs": [],
   "source": [
    "free_floating = reservation[reservation[\"tripmode\"] == \"FreeFloating (Rückgabe an einem beliebigen Ort)\"]"
   ]
  },
  {
   "cell_type": "code",
   "execution_count": null,
   "id": "3084ee29",
   "metadata": {
    "scrolled": true
   },
   "outputs": [],
   "source": [
    "free_floating.merge(station, left_on=\"start_station_no\", right_on = \"station_no\")"
   ]
  },
  {
   "cell_type": "markdown",
   "id": "fc114b9e",
   "metadata": {},
   "source": [
    "### Cars"
   ]
  },
  {
   "cell_type": "code",
   "execution_count": null,
   "id": "16c5a47f",
   "metadata": {},
   "outputs": [],
   "source": [
    "nr_stations_per_car = []\n",
    "for car, car_df in reservation.groupby(\"vehicle_no\"):\n",
    "    all_stations = car_df[\"start_station_no\"].values\n",
    "    nr_stations_per_car.append(len(np.unique(all_stations)))\n"
   ]
  },
  {
   "cell_type": "code",
   "execution_count": null,
   "id": "3d600901",
   "metadata": {},
   "outputs": [],
   "source": [
    "uni, counts = np.unique(nr_stations_per_car, return_counts=True)\n"
   ]
  },
  {
   "cell_type": "code",
   "execution_count": null,
   "id": "476cb12b",
   "metadata": {},
   "outputs": [],
   "source": [
    "print(counts[0] / np.sum(counts), \"% cars are only at one station\") \n",
    "print(sum(counts[:2]) / np.sum(counts), \"% cars are only used from two stations\") \n",
    "print(sum(counts[:3]) / np.sum(counts), \"% cars are only used from three stations\")\n"
   ]
  },
  {
   "cell_type": "markdown",
   "id": "9a07ab87",
   "metadata": {},
   "source": [
    "## Flexibilities\n",
    "\n",
    "How many hours do vehicles stand vs are reserved vs are in use?"
   ]
  },
  {
   "cell_type": "code",
   "execution_count": null,
   "id": "f49d28bd",
   "metadata": {},
   "outputs": [],
   "source": [
    "res_duration_h = (reservation[\"reservationto\"].apply(convert_to_timestamp) - reservation[\"reservationfrom\"].apply(convert_to_timestamp)) / 3600"
   ]
  },
  {
   "cell_type": "code",
   "execution_count": null,
   "id": "741bc6bd",
   "metadata": {},
   "outputs": [],
   "source": [
    "drive_duration_h = (reservation[\"drive_lastend\"].apply(convert_to_timestamp) - reservation[\"drive_firststart\"].apply(convert_to_timestamp)) / 3600\n"
   ]
  },
  {
   "cell_type": "code",
   "execution_count": null,
   "id": "2cb172a0",
   "metadata": {},
   "outputs": [],
   "source": [
    "reservation[\"res_duration\"] = res_duration_h\n",
    "reservation[\"drive_duration\"] = drive_duration_h"
   ]
  },
  {
   "cell_type": "code",
   "execution_count": null,
   "id": "a674d5e4",
   "metadata": {},
   "outputs": [],
   "source": [
    "total_hours = len(mapping)*24"
   ]
  },
  {
   "cell_type": "code",
   "execution_count": null,
   "id": "696143d2",
   "metadata": {},
   "outputs": [],
   "source": [
    "grouped_by_car = reservation.groupby(\"vehicle_no\").agg({\"res_duration\":\"sum\", \"drive_duration\":\"sum\"}) # , \"energytypegroup\":\"first\"})\n"
   ]
  },
  {
   "cell_type": "code",
   "execution_count": null,
   "id": "a785a5cd",
   "metadata": {},
   "outputs": [],
   "source": [
    "grouped_by_car"
   ]
  },
  {
   "cell_type": "markdown",
   "id": "5e64a358",
   "metadata": {},
   "source": [
    "#### Plot histograms of use per car"
   ]
  },
  {
   "cell_type": "code",
   "execution_count": null,
   "id": "9ae173d9",
   "metadata": {},
   "outputs": [],
   "source": [
    "plt.hist(grouped_by_car[\"res_duration\"] / len(mapping), bins=1000)\n",
    "# plt.yscale(\"log\")\n",
    "plt.xlabel(\"Hours in use - per day (reservation)\")\n",
    "plt.ylabel(\"Number of vehicles\")\n",
    "plt.xlim(0, 24)\n",
    "plt.show()"
   ]
  },
  {
   "cell_type": "code",
   "execution_count": null,
   "id": "29db4f79",
   "metadata": {},
   "outputs": [],
   "source": [
    "plt.hist(grouped_by_car[\"drive_duration\"] / len(mapping), bins=1000)\n",
    "# plt.yscale(\"log\")\n",
    "plt.xlabel(\"Hours in use - per day (drive)\")\n",
    "plt.ylabel(\"Number of vehicles\")\n",
    "plt.xlim(0, 24)\n",
    "plt.show()"
   ]
  },
  {
   "cell_type": "code",
   "execution_count": null,
   "id": "ba68e262",
   "metadata": {},
   "outputs": [],
   "source": [
    "for i in range(1,6):\n",
    "    car_use_per_day = grouped_by_car[\"res_duration\"] / len(mapping)\n",
    "    print(sum(car_use_per_day < i) / len(car_use_per_day), \"are used less than\", i, \"hours per day\")"
   ]
  },
  {
   "cell_type": "code",
   "execution_count": null,
   "id": "22b101f1",
   "metadata": {},
   "outputs": [],
   "source": [
    "melted_for_plot = grouped_by_car.melt()\n",
    "melted_for_plot[\"hours_per_day\"] = melted_for_plot[\"value\"] / len(mapping)"
   ]
  },
  {
   "cell_type": "code",
   "execution_count": null,
   "id": "d6ce2c93",
   "metadata": {},
   "outputs": [],
   "source": [
    "melted_for_plot = grouped_by_car.melt()\n",
    "melted_for_plot[\"hours_per_day\"] = melted_for_plot[\"value\"] / len(mapping)\n",
    "sns.violinplot(x=\"variable\", y=\"hours_per_day\", data=melted_for_plot)\n",
    "plt.ylim(0, 24)"
   ]
  },
  {
   "cell_type": "markdown",
   "id": "8ea0c5e7",
   "metadata": {},
   "source": [
    "#### How many days are they actually in use?"
   ]
  },
  {
   "cell_type": "code",
   "execution_count": null,
   "id": "da69830f",
   "metadata": {},
   "outputs": [],
   "source": [
    "convert_to_day = lambda x: mapping[x.split(\" \")[0]] if int(x[:4])>2018 and not (int(x[:4])==2020 and int(x[5:7])>=8) else pd.NA\n",
    "# get days\n",
    "reservation[\"reservationfrom_day\"] = reservation[\"reservationfrom\"].apply(convert_to_day)\n",
    "reservation[\"reservationto_day\"] = reservation[\"reservationto\"].apply(convert_to_day)"
   ]
  },
  {
   "cell_type": "code",
   "execution_count": null,
   "id": "ccd43fdb",
   "metadata": {
    "scrolled": true
   },
   "outputs": [],
   "source": [
    "def get_list(x):\n",
    "    if pd.isna(x[\"reservationfrom_day\"]) or pd.isna(x[\"reservationto_day\"]):\n",
    "        return []\n",
    "    else:\n",
    "        return list(np.arange(x[\"reservationfrom_day\"], x[\"reservationto_day\"]+1, 1))\n",
    "    \n",
    "veh_days_dict = {}\n",
    "for veh, veh_df in reservation.groupby(\"vehicle_no\"):\n",
    "    veh_df[\"day_list\"] = veh_df.apply(get_list, axis=1)\n",
    "    flat_day_list = [day for day_list in veh_df[\"day_list\"].values for day in day_list]\n",
    "    set_of_days = set(flat_day_list)\n",
    "    veh_days_dict[veh] = len(set_of_days)"
   ]
  },
  {
   "cell_type": "code",
   "execution_count": null,
   "id": "106b7c51",
   "metadata": {},
   "outputs": [],
   "source": [
    "temp = [[key, val] for key, val in veh_days_dict.items()]\n",
    "veh_df = pd.DataFrame(temp, columns=[\"vehicle_no\", \"no_days\"]).set_index(\"vehicle_no\")"
   ]
  },
  {
   "cell_type": "code",
   "execution_count": null,
   "id": "a5b29dca",
   "metadata": {},
   "outputs": [],
   "source": [
    "plt.figure(figsize=(10,8))\n",
    "plt.hist(veh_df/len(mapping), bins=100)\n",
    "plt.ylabel(\"Number of vehicles\")\n",
    "plt.xlabel(\"Ratio of days that the vehicle is in use\")\n",
    "plt.show()"
   ]
  },
  {
   "cell_type": "code",
   "execution_count": null,
   "id": "8185414a",
   "metadata": {},
   "outputs": [],
   "source": [
    "car_val = veh_df[\"no_days\"].values / len(mapping)\n",
    "for i in range(1,6):\n",
    "    print(sum(car_val < i/10) / len(car_val), \"are used less than\", i*10, \"% of all days\")"
   ]
  },
  {
   "cell_type": "markdown",
   "id": "71220821",
   "metadata": {},
   "source": [
    "## When are the flexibilities in a day?"
   ]
  },
  {
   "cell_type": "code",
   "execution_count": null,
   "id": "79820f51",
   "metadata": {},
   "outputs": [],
   "source": [
    "valid_reservations = reservation[pd.isna(reservation[\"canceldate\"])]"
   ]
  },
  {
   "cell_type": "code",
   "execution_count": null,
   "id": "66ba9afb",
   "metadata": {},
   "outputs": [],
   "source": [
    "counter = 0\n",
    "mapping_hours = {}\n",
    "for day in range(len(mapping)):\n",
    "    for hour in range(24):\n",
    "        mapping_hours[(day, hour)] = counter\n",
    "        counter += 1 "
   ]
  },
  {
   "cell_type": "code",
   "execution_count": null,
   "id": "76620c36",
   "metadata": {},
   "outputs": [],
   "source": [
    "count_bookings = np.zeros(len(mapping)*24)\n",
    "for i, row in valid_reservations.iterrows():\n",
    "    if pd.isna(row[\"reservationfrom\"]) or pd.isna(row[\"reservationto\"]):\n",
    "        continue\n",
    "\n",
    "    date_start = row[\"reservationfrom\"][:10]\n",
    "    date_end = row[\"reservationto\"][:10]\n",
    "    hour_start = int(row[\"reservationfrom\"][11:13])\n",
    "    hour_end = int(row[\"reservationto\"][11:13])\n",
    "    \n",
    "    if int(date_start[:4]) < 2019:\n",
    "        start_ind = 0\n",
    "    else:\n",
    "        start_ind = mapping_hours[(mapping[date_start], hour_start)]\n",
    "    if int(date_end[:4]) == 2020 and int(date_end[5:7]) >= 8:\n",
    "        end_ind = len(mapping_hours) - 1\n",
    "        print(date_start, date_end, hour_end)\n",
    "    else:\n",
    "        end_ind = mapping_hours[(mapping[date_end], hour_end)]\n",
    "    \n",
    "    \n",
    "    if end_ind < start_ind:\n",
    "        print(\"end before start!\")\n",
    "        continue\n",
    "        \n",
    "    count_bookings[start_ind:end_ind+1] += 1"
   ]
  },
  {
   "cell_type": "code",
   "execution_count": null,
   "id": "5a63f864",
   "metadata": {},
   "outputs": [],
   "source": [
    "count_bookings_per_day = np.reshape(count_bookings, (len(mapping), 24))"
   ]
  },
  {
   "cell_type": "code",
   "execution_count": null,
   "id": "c30e8f25",
   "metadata": {},
   "outputs": [],
   "source": [
    "plt.figure(figsize=(20,5))\n",
    "plt.plot(count_bookings)\n",
    "plt.show()"
   ]
  },
  {
   "cell_type": "code",
   "execution_count": null,
   "id": "2c45af2b",
   "metadata": {},
   "outputs": [],
   "source": [
    "np.mean(count_bookings_per_day) / len(np.unique(reservation[\"vehicle_no\"].values)), len(np.unique(reservation[\"vehicle_no\"].values))\n"
   ]
  },
  {
   "cell_type": "code",
   "execution_count": null,
   "id": "3280d074",
   "metadata": {},
   "outputs": [],
   "source": [
    "plt.figure(figsize=(8,5))\n",
    "plt.plot(np.mean(count_bookings_per_day, axis=0))\n",
    "plt.title(\"Usage by hour\")"
   ]
  },
  {
   "cell_type": "markdown",
   "id": "8062f30d",
   "metadata": {},
   "source": [
    "## Number of used vehicles per month"
   ]
  },
  {
   "cell_type": "code",
   "execution_count": null,
   "id": "77d90d42",
   "metadata": {},
   "outputs": [],
   "source": [
    "unique_vehicles_per_month, unique_stations_per_month = [], []\n",
    "ev_bookings, ev_vehicles = [], []\n",
    "\n",
    "distinct = lambda x: len(np.unique(x))\n",
    "distinct_vehicles_at_station_ever = reservation.groupby(\"start_station_no\").agg({\"vehicle_no\":distinct})\n",
    "\n",
    "years_and_months = []\n",
    "for year in [2019, 2020]:\n",
    "    for month_int in range(12):\n",
    "        if year == 2020 and month_int>6:\n",
    "            break\n",
    "        month_start = \"%02d\" %(month_int+1)\n",
    "        month_ts_start = convert_to_timestamp(f'{year}-{month_start}-01 00:00:00.000')\n",
    "        if month_int < 11:\n",
    "            month = \"%02d\" %(month_int+2)\n",
    "            month_ts_end = convert_to_timestamp(f'{year}-{month}-01 00:00:00.000')\n",
    "        else: \n",
    "            month_ts_end = convert_to_timestamp(f'{year+1}-01-01 00:00:00.000')\n",
    "            \n",
    "        cond_smaller = reservation[\"reservation_from_ts\"] < month_ts_end\n",
    "        cond_bigger = reservation[\"reservation_from_ts\"] >= month_ts_start\n",
    "        month_df = reservation[cond_smaller & cond_bigger]\n",
    "        \n",
    "        # Test: print(month_df[\"reservationfrom\"].values)\n",
    "        num_unique_vehicles = np.unique(month_df[\"vehicle_no\"].values)\n",
    "        unique_vehicles_per_month.append(len(num_unique_vehicles))\n",
    "        unique_stations_per_month.append(len(np.unique(month_df[\"start_station_no\"].values)))\n",
    "    \n",
    "        # Number of bookings and number of vehicles EV\n",
    "        only_ev = month_df[month_df[\"energytypegroup\"] == \"Electro\"]\n",
    "        ev_bookings.append(len(only_ev))\n",
    "        ev_vehicles.append(len(np.unique(only_ev[\"vehicle_no\"])))\n",
    "        # print(only_ev[[\"reservationfrom\", \"energytypegroup\"])\n",
    "        \n",
    "        # cars per station\n",
    "        distinct = lambda x: len(np.unique(x))\n",
    "        distinct_vehicles_at_station = month_df.groupby(\"start_station_no\").agg({\"vehicle_no\":distinct})\n",
    "        distinct_vehicles_at_station_ever = pd.merge(\n",
    "            distinct_vehicles_at_station_ever, distinct_vehicles_at_station, how=\"outer\", left_index=True, right_index=True, suffixes=(\"\", str(month_int))\n",
    "        )\n",
    "        \n",
    "        years_and_months.append(f\"{year}-{month_start}\")"
   ]
  },
  {
   "cell_type": "code",
   "execution_count": null,
   "id": "fb7c97e2",
   "metadata": {
    "scrolled": false
   },
   "outputs": [],
   "source": [
    "plt.figure(figsize=(15,9))\n",
    "plt.subplot(2,2,1)\n",
    "plt.plot(unique_vehicles_per_month)\n",
    "plt.xticks(np.arange(19), years_and_months, rotation=90)\n",
    "plt.title(\"Number of vehicles used in each month\")\n",
    "plt.subplot(2,2,2)\n",
    "plt.plot(unique_stations_per_month)\n",
    "plt.xticks(np.arange(19), years_and_months, rotation=90)\n",
    "plt.title(\"Number of stations used in each month\")\n",
    "plt.subplot(2,2,3)\n",
    "plt.plot(ev_bookings)\n",
    "plt.xticks(np.arange(19), years_and_months, rotation=90)\n",
    "plt.title(\"Bookings of EVs\")\n",
    "plt.subplot(2,2,4)\n",
    "plt.plot(ev_vehicles)\n",
    "plt.xticks(np.arange(19), years_and_months, rotation=90)\n",
    "plt.title(\"Electric vehicles used in each month\")\n",
    "plt.tight_layout()"
   ]
  },
  {
   "cell_type": "markdown",
   "id": "3c0f2c37",
   "metadata": {},
   "source": [
    "## First appearance of each EV in the data"
   ]
  },
  {
   "cell_type": "code",
   "execution_count": null,
   "id": "d2410465",
   "metadata": {},
   "outputs": [],
   "source": [
    "only_ev = reservation[reservation[\"energytypegroup\"] == \"Electro\"]"
   ]
  },
  {
   "cell_type": "code",
   "execution_count": null,
   "id": "6d7e3a06",
   "metadata": {},
   "outputs": [],
   "source": [
    "only_ev_grouped = only_ev.groupby(\"vehicle_no\").agg({\"reservationfrom\":\"min\", \"reservation_from_ts\":\"min\"})"
   ]
  },
  {
   "cell_type": "code",
   "execution_count": null,
   "id": "0c16138a",
   "metadata": {},
   "outputs": [],
   "source": [
    "new_per_month = []\n",
    "for year in [2019, 2020]:\n",
    "    for month_int in range(12):\n",
    "        if year == 2020 and month_int>6:\n",
    "            break\n",
    "        month_start = \"%02d\" %(month_int+1)\n",
    "        month_ts_start = convert_to_timestamp(f'{year}-{month_start}-01 00:00:00.000')\n",
    "        if month_int < 11:\n",
    "            month = \"%02d\" %(month_int+2)\n",
    "            month_ts_end = convert_to_timestamp(f'{year}-{month}-01 00:00:00.000')\n",
    "        else: \n",
    "            month_ts_end = convert_to_timestamp(f'{year+1}-01-01 00:00:00.000')\n",
    "            \n",
    "        cond_smaller = only_ev_grouped[\"reservation_from_ts\"] < month_ts_end\n",
    "        month_df = only_ev_grouped[cond_smaller]\n",
    "        \n",
    "        new_per_month.append(len(month_df))"
   ]
  },
  {
   "cell_type": "code",
   "execution_count": null,
   "id": "f07fe4e1",
   "metadata": {},
   "outputs": [],
   "source": [
    "plt.plot(new_per_month)\n",
    "plt.xticks(np.arange(19), years_and_months, rotation=90)\n",
    "plt.title(\"EVs appearing up to this month\")"
   ]
  },
  {
   "cell_type": "markdown",
   "id": "9a501b00",
   "metadata": {},
   "source": [
    "## How many cars per station"
   ]
  },
  {
   "cell_type": "code",
   "execution_count": null,
   "id": "daa14e8d",
   "metadata": {},
   "outputs": [],
   "source": [
    "distinct = lambda x: len(np.unique(x))\n",
    "distinct_vehicles_at_station_ever = reservation.groupby(\"start_station_no\").agg({\"vehicle_no\":distinct})"
   ]
  },
  {
   "cell_type": "code",
   "execution_count": null,
   "id": "31d9429f",
   "metadata": {},
   "outputs": [],
   "source": [
    "for i in range(5):\n",
    "    print(f\"Ratio of vehicles with less than {i+1} cars:\", sum(distinct_vehicles_at_station_ever[\"vehicle_no\"] <= i+1) / len(distinct_vehicles_at_station_ever))\n",
    "    "
   ]
  },
  {
   "cell_type": "code",
   "execution_count": null,
   "id": "7a435c80",
   "metadata": {},
   "outputs": [],
   "source": [
    "# Auswertung aus der oberen for loop\n",
    "distinct_vehicles_at_station_ever"
   ]
  },
  {
   "cell_type": "code",
   "execution_count": null,
   "id": "249c343e",
   "metadata": {
    "scrolled": true
   },
   "outputs": [],
   "source": [
    "median_veh_per_station = distinct_vehicles_at_station_ever.median(axis=1)\n",
    "plt.hist(median_veh_per_station[median_veh_per_station<20])\n",
    "# plt.yscale(\"log\")\n",
    "plt.ylabel(\"Number of station\")\n",
    "plt.xlabel(\"Vehicle count\")\n",
    "plt.title(\"Median of monthly number of vehicles per station\")"
   ]
  },
  {
   "cell_type": "code",
   "execution_count": null,
   "id": "1f315c1d",
   "metadata": {},
   "outputs": [],
   "source": [
    "for i in range(5):\n",
    "    print(f\"Ratio of stations with {i+1} cars:\", round(sum(median_veh_per_station == i+1) / len(median_veh_per_station), 2))\n",
    "    "
   ]
  },
  {
   "cell_type": "markdown",
   "id": "087a4d20",
   "metadata": {},
   "source": [
    "## Driven km by energytypegroup"
   ]
  },
  {
   "cell_type": "code",
   "execution_count": null,
   "id": "232a5e8d",
   "metadata": {},
   "outputs": [],
   "source": [
    "res_filtered = reservation[(np.absolute(reservation[\"drive_km\"]) < 400) & (reservation[\"drive_km\"] > 0)]\n",
    "print(min(res_filtered[\"drive_km\"]), max(res_filtered[\"drive_km\"]))"
   ]
  },
  {
   "cell_type": "code",
   "execution_count": null,
   "id": "75611a49",
   "metadata": {},
   "outputs": [],
   "source": [
    "plt.figure(figsize=(15, 5))\n",
    "sns.kdeplot(data=res_filtered, x=\"drive_km\", hue=\"energytypegroup\", common_norm=False)"
   ]
  },
  {
   "cell_type": "code",
   "execution_count": null,
   "id": "70b5cdb0",
   "metadata": {
    "scrolled": true
   },
   "outputs": [],
   "source": [
    "reservation[reservation[\"drive_km\"]<0][[\"reservationtype\", \"reservationstate\", \"tripmode\", \"drive_km\", \"canceldate\"]]"
   ]
  },
  {
   "cell_type": "code",
   "execution_count": null,
   "id": "5ee2164b",
   "metadata": {
    "scrolled": true
   },
   "outputs": [],
   "source": [
    "negative_drive_km = reservation[reservation[\"drive_km\"]<0].reset_index()[\n",
    "    [\"reservation_no\", \"drive_km\",\"syscreatedate\",\"reservationfrom\", \"reservationto\", \"canceldate\"]\n",
    "]\n",
    "negative_drive_km.to_csv(\"data/examples_for_questions/negative_drive_km.csv\")"
   ]
  },
  {
   "cell_type": "code",
   "execution_count": null,
   "id": "01256a31",
   "metadata": {},
   "outputs": [],
   "source": [
    "res_filtered.groupby(\"energytypegroup\").agg({\"drive_km\":[\"mean\", \"median\", \"std\"]})"
   ]
  },
  {
   "cell_type": "markdown",
   "id": "27105f2f",
   "metadata": {},
   "source": [
    "### Problem: Stations have noisy lon and lat --> create example for Andreas to check"
   ]
  },
  {
   "cell_type": "code",
   "execution_count": null,
   "id": "32ca54fd",
   "metadata": {},
   "outputs": [],
   "source": [
    "data_bookings = pd.read_csv(\"data/20211213_ethz_reservation/20211213_ethz_reservation_20190101_20190131.tsv\", sep=\"\\t\")\n"
   ]
  },
  {
   "cell_type": "code",
   "execution_count": null,
   "id": "488716bb",
   "metadata": {},
   "outputs": [],
   "source": [
    "start_cols = ['BASESTART_NO', 'BASESTART_NAME', 'BASESTART_LAT', 'BASESTART_LON']\n",
    "end_cols = ['BASEEND_NO', 'BASEEND_NAME','BASEEND_LAT', 'BASEEND_LON']\n",
    "\n",
    "data_stations = data_bookings[start_cols]\n",
    "rename_dict = {c: c.split(\"_\")[-1] for c in start_cols}\n",
    "data_stations = data_stations.rename(columns=rename_dict)\n",
    "add_end_stations =  data_bookings[end_cols]\n",
    "rename_dict = {c: c.split(\"_\")[-1] for c in end_cols}\n",
    "add_end_stations = add_end_stations.rename(columns=rename_dict)\n",
    "data_stations = pd.concat([data_stations, add_end_stations])"
   ]
  },
  {
   "cell_type": "code",
   "execution_count": null,
   "id": "67dd3016",
   "metadata": {
    "scrolled": true
   },
   "outputs": [],
   "source": [
    "for no, df in data_stations.groupby(\"NO\"):\n",
    "    # if no == 1006:\n",
    "    # print(df.head(50))\n",
    "    rounded_lat = df[\"LAT\"].apply(lambda x: round(x, 2))\n",
    "    rounded_lon = df[\"LON\"].apply(lambda x: round(x, 2))\n",
    "    if len(np.unique(rounded_lat.values))>1 or len(np.unique(rounded_lon.values))>1:\n",
    "        if no == 1048:\n",
    "            df.to_csv(\"data/examples_for_questions/station_lon_lat.csv\")"
   ]
  },
  {
   "cell_type": "markdown",
   "id": "b4d1294b",
   "metadata": {},
   "source": []
  }
 ],
 "metadata": {
  "kernelspec": {
   "display_name": "Python 3 (ipykernel)",
   "language": "python",
   "name": "python3"
  },
  "language_info": {
   "codemirror_mode": {
    "name": "ipython",
    "version": 3
   },
   "file_extension": ".py",
   "mimetype": "text/x-python",
   "name": "python",
   "nbconvert_exporter": "python",
   "pygments_lexer": "ipython3",
   "version": "3.9.5"
  }
 },
 "nbformat": 4,
 "nbformat_minor": 5
}
